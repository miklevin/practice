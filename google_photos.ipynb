{
 "cells": [
  {
   "cell_type": "code",
   "execution_count": null,
   "id": "cf25d46a-b219-41b1-80e4-72ed680de233",
   "metadata": {},
   "outputs": [],
   "source": [
    "%load_ext lab_black"
   ]
  },
  {
   "cell_type": "code",
   "execution_count": null,
   "id": "d4862a80-ae68-49ee-849d-f8e54b3ab985",
   "metadata": {},
   "outputs": [],
   "source": [
    "import ohawf\n",
    "from apiclient.discovery import build\n",
    "from sqlitedict import SqliteDict as sqldict"
   ]
  },
  {
   "cell_type": "code",
   "execution_count": null,
   "id": "13edc3c6-f63e-4606-ad4a-a44b69d6a8ae",
   "metadata": {},
   "outputs": [],
   "source": [
    "creds = ohawf.get(cli=True)"
   ]
  },
  {
   "cell_type": "code",
   "execution_count": null,
   "id": "d41d21b4-a301-441b-823e-b1c29d073bf6",
   "metadata": {},
   "outputs": [],
   "source": [
    "service = build(\"photoslibrary\", \"v1\", credentials=creds, static_discovery=False)"
   ]
  },
  {
   "cell_type": "code",
   "execution_count": null,
   "id": "28b8e3b0-2be9-4de4-bcb2-ec2a3a50a7c5",
   "metadata": {},
   "outputs": [],
   "source": [
    "npt = \"\"\n",
    "for i in range(1, 9000)::\n",
    "    args = {\n",
    "        \"pageSize\": 100,\n",
    "        \"pageToken\": npt,\n",
    "        \"filters\": {\n",
    "            \"includeArchivedMedia\": True,\n",
    "        },\n",
    "    }\n",
    "    results = service.mediaItems().search(body=args).execute()\n",
    "    npt = results.get(\"nextPageToken\")\n",
    "    if \"mediaItems\" in results:\n",
    "        print(, flush=True, end=\" \")\n",
    "        `media_items = results[\"mediaItems\"]\n",
    "        with sqldict(\"/home/ubuntu/data/gphotos/gphotos.db\") as db:\n",
    "            for media_item in media_items:\n",
    "                mid = media_item[\"id\"]\n",
    "                db[mid] = media_item\n",
    "            db.commit()\n",
    "    if not npt:\n",
    "        break\n",
    "\n",
    "print(\"Done!\")"
   ]
  },
  {
   "cell_type": "code",
   "execution_count": null,
   "id": "0e17e1c9-5b5b-4702-8291-90ada387bb54",
   "metadata": {},
   "outputs": [],
   "source": []
  }
 ],
 "metadata": {
  "kernelspec": {
   "display_name": "Python 3 (ipykernel)",
   "language": "python",
   "name": "python3"
  },
  "language_info": {
   "codemirror_mode": {
    "name": "ipython",
    "version": 3
   },
   "file_extension": ".py",
   "mimetype": "text/x-python",
   "name": "python",
   "nbconvert_exporter": "python",
   "pygments_lexer": "ipython3"
  }
 },
 "nbformat": 4,
 "nbformat_minor": 5
}
