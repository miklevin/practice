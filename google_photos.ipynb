{
 "cells": [
  {
   "cell_type": "code",
   "execution_count": null,
   "id": "cf25d46a-b219-41b1-80e4-72ed680de233",
   "metadata": {},
   "outputs": [],
   "source": [
    "%load_ext lab_black"
   ]
  },
  {
   "cell_type": "code",
   "execution_count": null,
   "id": "1b896e17-53a0-4a92-8659-2eb05dfa8159",
   "metadata": {},
   "outputs": [],
   "source": [
    "import ohawf\n",
    "from apiclient.discovery import build"
   ]
  },
  {
   "cell_type": "code",
   "execution_count": null,
   "id": "511dfb52-f096-4421-8146-0d4b42347297",
   "metadata": {},
   "outputs": [],
   "source": [
    "creds = ohawf.get()"
   ]
  },
  {
   "cell_type": "code",
   "execution_count": null,
   "id": "f693b39f-ff38-451f-bf40-4214cceb8a6c",
   "metadata": {},
   "outputs": [],
   "source": [
    "service = build(\"photoslibrary\", \"v1\", credentials=creds, static_discovery=False)"
   ]
  },
  {
   "cell_type": "code",
   "execution_count": null,
   "id": "afe73a25-9c96-4472-a506-d794a6617f49",
   "metadata": {},
   "outputs": [],
   "source": [
    "for i in range(50):\n",
    "    npt = \"\"\n",
    "    args = {\n",
    "        \"pageSize\": 100,\n",
    "        \"pageToken\": npt,\n",
    "        \"filters\": {\n",
    "            \"includeArchivedMedia\": True,\n",
    "            \"mediaTypeFilter\": {\"mediaTypes\": [\"PHOTO\"]},\n",
    "        },\n",
    "    }\n",
    "    results = service.mediaItems().search(body=args).execute()\n",
    "    npt = results.get(\"nextPageToken\")\n",
    "    if \"mediaItems\" in results:\n",
    "        for j, filename in enumerate([x[\"filename\"] for x in results[\"mediaItems\"]]):\n",
    "            print(i, j, filename)\n",
    "    if not npt:\n",
    "        break\n",
    "print(\"Done!\")"
   ]
  },
  {
   "cell_type": "code",
   "execution_count": null,
   "id": "0e17e1c9-5b5b-4702-8291-90ada387bb54",
   "metadata": {},
   "outputs": [],
   "source": []
  }
 ],
 "metadata": {
  "kernelspec": {
   "display_name": "Python 3 (ipykernel)",
   "language": "python",
   "name": "python3"
  },
  "language_info": {
   "codemirror_mode": {
    "name": "ipython",
    "version": 3
   },
   "file_extension": ".py",
   "mimetype": "text/x-python",
   "name": "python",
   "nbconvert_exporter": "python",
   "pygments_lexer": "ipython3"
  }
 },
 "nbformat": 4,
 "nbformat_minor": 5
}
