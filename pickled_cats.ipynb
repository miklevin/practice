{
 "cells": [
  {
   "cell_type": "code",
   "execution_count": null,
   "id": "4291c96b-4b49-4aa2-9fcd-9725794cc8c5",
   "metadata": {},
   "outputs": [],
   "source": [
    "%load_ext lab_black"
   ]
  },
  {
   "cell_type": "code",
   "execution_count": null,
   "id": "c5f5f834-a7c8-426a-a891-0293b5a7069d",
   "metadata": {},
   "outputs": [],
   "source": [
    "from time import time\n",
    "from pathlib import Path\n",
    "from pickle import dumps, loads\n",
    "from sqlitedict import SqliteDict as sqldict"
   ]
  },
  {
   "cell_type": "code",
   "execution_count": null,
   "id": "6e8eb690-61ad-4805-8dc7-de075a7a87ff",
   "metadata": {},
   "outputs": [],
   "source": [
    "data = \"pickey\"\n",
    "Path(\"pickey\").mkdir(exist_ok=True)"
   ]
  },
  {
   "cell_type": "code",
   "execution_count": null,
   "id": "18fc10a0-fcb3-49fa-8f53-66212b20e5f0",
   "metadata": {},
   "outputs": [],
   "source": [
    "# Let's count from 0 to 9 in Python\n",
    "for i in range(10):\n",
    "    print(i, end=\" \")"
   ]
  },
  {
   "cell_type": "code",
   "execution_count": null,
   "id": "87161f32-802e-4733-8e41-16b28d4cfff8",
   "metadata": {},
   "outputs": [],
   "source": [
    "# Let's count from 1 to 10 in Python\n",
    "for i in range(1, 11):\n",
    "    print(i, end=\" \")"
   ]
  },
  {
   "cell_type": "code",
   "execution_count": null,
   "id": "0b28e486-d531-4c4d-8478-cf18a675b4c9",
   "metadata": {},
   "outputs": [],
   "source": [
    "# Keep it easy. Just do this.\n",
    "for i in range(10):\n",
    "    print(i + 1, end=\" \")"
   ]
  },
  {
   "cell_type": "code",
   "execution_count": null,
   "id": "639a3baf-3146-4057-8eea-9599d962695c",
   "metadata": {},
   "outputs": [],
   "source": [
    "# Count to 100,000 by 1,000.\n",
    "for i in range(100000):\n",
    "    if not i % 1000:\n",
    "        print(i, end=\" \")"
   ]
  },
  {
   "cell_type": "code",
   "execution_count": null,
   "id": "18d91e8a-5380-4a21-b512-7e6736ff8121",
   "metadata": {},
   "outputs": [],
   "source": [
    "# Can you format that with commas?\n",
    "for i in range(100000):\n",
    "    if not i % 1000:\n",
    "        print(f\"{i:,}\", end=\" \")"
   ]
  },
  {
   "cell_type": "code",
   "execution_count": null,
   "id": "23df744e-db78-4c60-baa1-b3c8cabbcc54",
   "metadata": {},
   "outputs": [],
   "source": [
    "# What's it like to write a million lines into a text file?\n",
    "filename = f\"{data}/text.txt\"\n",
    "with open(filename, \"wt\") as fh:\n",
    "    for i in range(1000000):\n",
    "        fh.write(f\"{i}\\n\")\n",
    "print(\"Done\")"
   ]
  },
  {
   "cell_type": "code",
   "execution_count": null,
   "id": "fa1d3dc6-3ea3-41fd-8775-44bf7b691dc9",
   "metadata": {},
   "outputs": [],
   "source": [
    "# That was fast. How big is that file?\n",
    "bytesize = Path(filename).stat().st_size\n",
    "kilo = 1000\n",
    "print(f\"The file {filename} is {bytesize:,} Bytes\")\n",
    "print(f\"Abbreviated to {bytesize / kilo:,.0f} Kilobytes\")  # The :,0f formats\n",
    "print(f\"Or just {bytesize / kilo / kilo:.0f}K\")"
   ]
  },
  {
   "cell_type": "code",
   "execution_count": null,
   "id": "b7eb6c17-6082-4045-a7ae-0da13271a1de",
   "metadata": {},
   "outputs": [],
   "source": [
    "# What's it like to write 100,000 keys into a database?\n",
    "filename = f\"{data}/database.db\"\n",
    "now = time()\n",
    "with sqldict(filename) as db:\n",
    "    for i in range(100000):\n",
    "        db[i] = None\n",
    "        if not i % 10000:\n",
    "            db.commit()\n",
    "            print(f\"{i:,}\", end=\" \")\n",
    "seconds = int(time() - now)\n",
    "print(f\"\\nDone ({seconds} seconds)\")"
   ]
  },
  {
   "cell_type": "code",
   "execution_count": null,
   "id": "b1e3def5-6938-4488-bd55-e71327f9359e",
   "metadata": {},
   "outputs": [],
   "source": [
    "# That was fast. How big is that file?\n",
    "bytesize = Path(filename).stat().st_size\n",
    "kilo = 1000\n",
    "f\"{bytesize:,} Bytes\"\n",
    "f\"The file {filename} is {bytesize / kilo:,.0f} Kilobytes\""
   ]
  },
  {
   "cell_type": "code",
   "execution_count": null,
   "id": "4efdf18f-7368-484c-bfaa-01fd4a9b5204",
   "metadata": {},
   "outputs": [],
   "source": [
    "# How many zeros in a billion?\n",
    "f\"{10**9:,}\""
   ]
  },
  {
   "cell_type": "code",
   "execution_count": null,
   "id": "b5a2d5cd-d123-49c6-b3bc-e663780eb324",
   "metadata": {},
   "outputs": [],
   "source": [
    "# How many zeros in a hundred-million?\n",
    "f\"{10**8:,}\""
   ]
  },
  {
   "cell_type": "code",
   "execution_count": null,
   "id": "02aa80cb-341a-4152-8800-57aa3c969fb5",
   "metadata": {},
   "outputs": [],
   "source": [
    "# Let's count down from a billion by hundred-millions\n",
    "hundredmillion = 10**8\n",
    "billion = 10**9\n",
    "now = time()\n",
    "for i in range(billion):\n",
    "    if not i % hundredmillion:\n",
    "        print(f\"{i:,}\", end=\"  \")\n",
    "seconds = int(time() - now)\n",
    "print(f\"\\nDone ({seconds} seconds)\")  # Computers are fast but not that fast"
   ]
  },
  {
   "cell_type": "code",
   "execution_count": null,
   "id": "7343139e-5ff2-4e74-abc4-54cfc5f3f551",
   "metadata": {},
   "outputs": [],
   "source": [
    "# Make an in-memory dict with a hundred million keys\n",
    "adict = {}\n",
    "million = 10**6\n",
    "for i in range(million):\n",
    "    adict[i] = None"
   ]
  },
  {
   "cell_type": "code",
   "execution_count": null,
   "id": "41d9c592-4df5-4c3c-8c8c-a05e96b12445",
   "metadata": {},
   "outputs": [],
   "source": [
    "# Dump pickled dict to file\n",
    "filename = f\"{data}/dumps.pkl\"\n",
    "kilo = 1000\n",
    "with open(filename, \"wb\") as fh:\n",
    "    fh.write(dumps(adict))\n",
    "bytesize = Path(filename).stat().st_size\n",
    "f\"The file {filename} is {bytesize / kilo:,.0f} Kilobytes\""
   ]
  },
  {
   "cell_type": "code",
   "execution_count": null,
   "id": "007d0b8c-28aa-4309-9df9-d1913dce321e",
   "metadata": {},
   "outputs": [],
   "source": [
    "from PIL import Image\n",
    "from httpx import get\n",
    "from io import BytesIO\n",
    "from time import sleep\n",
    "from imagehash import phash, whash\n",
    "from IPython.display import display\n",
    "from PIL.PngImagePlugin import PngInfo\n",
    "from binascii import hexlify, unhexlify\n",
    "from pickle import load, dump, loads, dumps\n",
    "\n",
    "save_to = f\"{data}/cats\"\n",
    "thumbs = f\"{data}/thumbs\"\n",
    "\n",
    "Path(save_to).mkdir(exist_ok=True)\n",
    "Path(thumbs).mkdir(exist_ok=True)"
   ]
  },
  {
   "cell_type": "code",
   "execution_count": null,
   "id": "5dee9bdc-9d22-4510-be47-67779f75e52f",
   "metadata": {},
   "outputs": [],
   "source": [
    "# Download 30 cats that don't exist\n",
    "url = \"https://thiscatdoesnotexist.com/\"\n",
    "cats = 30\n",
    "for i in range(cats):\n",
    "    filename = f\"{save_to}/cat-{str(i).zfill(3)}.jpg\"\n",
    "    if not Path(filename).exists():\n",
    "        print(f\"{cats - i} Downloading: {filename}\")\n",
    "        response = get(url)\n",
    "        img = Image.open(BytesIO(response.content))\n",
    "        img.save(filename)\n",
    "        sleep(1)\n",
    "print(\"Done\")"
   ]
  },
  {
   "cell_type": "code",
   "execution_count": null,
   "id": "c447eefa-fc5b-42fa-98e7-4934d92a471d",
   "metadata": {},
   "outputs": [],
   "source": [
    "size = 64\n",
    "for cat in Path(save_to).glob(\"*.jpg\"):\n",
    "    print(cat)\n",
    "    img = Image.open(cat)\n",
    "    thumb = img.copy()\n",
    "    thumb.thumbnail((size, size))\n",
    "    # thumb = grayscale(thumb)\n",
    "    display(thumb)\n",
    "    awhash = whash(img, hash_size=8)\n",
    "    width, height = img.width, img.height\n",
    "    bands = \"\".join(img.getbands())\n",
    "    extremes = (\n",
    "        \"!\".join([str(x)[1:-1] for x in img.getextrema()])\n",
    "        .replace(\" \", \"\")\n",
    "        .replace(\",\", \"-\")\n",
    "    ).replace(\"!\", \",\")\n",
    "    meta_data = {\n",
    "        \"filename\": cat.name,\n",
    "        \"width\": width,\n",
    "        \"height\": height,\n",
    "        \"format\": img.format,\n",
    "        \"format_description\": img.format_description,\n",
    "        \"bands\": img.getbands(),\n",
    "        \"extremes\": img.getextrema(),\n",
    "        \"xmp\": img.getxmp(),\n",
    "    }\n",
    "    filename = f\"{width}x{height}_{bands}_{extremes}_{awhash}.png\"\n",
    "    print(filename)\n",
    "    thumb.save(\n",
    "        f\"{thumbs}/{filename}\", \"PNG\", pnginfo=PngInfo(), save_all=True, meta=meta_data\n",
    "    )\n",
    "    print()"
   ]
  },
  {
   "cell_type": "code",
   "execution_count": null,
   "id": "0341edde-e3d4-49fa-9b7c-72a70ff80328",
   "metadata": {},
   "outputs": [],
   "source": []
  }
 ],
 "metadata": {
  "kernelspec": {
   "display_name": "Python 3 (ipykernel)",
   "language": "python",
   "name": "python3"
  },
  "language_info": {
   "codemirror_mode": {
    "name": "ipython",
    "version": 3
   },
   "file_extension": ".py",
   "mimetype": "text/x-python",
   "name": "python",
   "nbconvert_exporter": "python",
   "pygments_lexer": "ipython3"
  }
 },
 "nbformat": 4,
 "nbformat_minor": 5
}
