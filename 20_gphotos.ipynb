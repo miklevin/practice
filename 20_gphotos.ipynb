{
 "cells": [
  {
   "cell_type": "code",
   "execution_count": null,
   "id": "cf25d46a-b219-41b1-80e4-72ed680de233",
   "metadata": {},
   "outputs": [],
   "source": [
    "%load_ext lab_black\n",
    "# Enforces good coding style. Running it is optional."
   ]
  },
  {
   "cell_type": "code",
   "execution_count": null,
   "id": "e7018d1e-db03-4851-a5c1-1d7bad811573",
   "metadata": {},
   "outputs": [],
   "source": [
    "# Import the the library that helps authenticate google services.\n",
    "import ohawf"
   ]
  },
  {
   "cell_type": "code",
   "execution_count": null,
   "id": "0f86b9dc-4611-4388-a4e7-51faab19eaaf",
   "metadata": {},
   "outputs": [],
   "source": [
    "# A list containing requested Google services (GPhotos is not an ohawf default)\n",
    "scopes = [\n",
    "    \"https://www.googleapis.com/auth/photoslibrary.readonly\",\n",
    "    \"https://www.googleapis.com/auth/photoslibrary.appendonly\",\n",
    "]"
   ]
  },
  {
   "cell_type": "code",
   "execution_count": null,
   "id": "37661a5d-893c-4156-ad8c-598d182451ef",
   "metadata": {},
   "outputs": [],
   "source": [
    "# Causes web login prompt for the Google login you want to use.\n",
    "creds = ohawf.get(scopes=scopes)"
   ]
  },
  {
   "cell_type": "code",
   "execution_count": null,
   "id": "e240611f-6d36-4262-b1ae-058e0db96260",
   "metadata": {},
   "outputs": [],
   "source": [
    "# This is in common for connecting to most Google services.\n",
    "from apiclient.discovery import build"
   ]
  },
  {
   "cell_type": "code",
   "execution_count": null,
   "id": "d41d21b4-a301-441b-823e-b1c29d073bf6",
   "metadata": {},
   "outputs": [],
   "source": [
    "# Build an authenticated service connection to Google Photos.\n",
    "service = build(\"photoslibrary\", \"v1\", credentials=creds, static_discovery=False)"
   ]
  },
  {
   "cell_type": "markdown",
   "id": "e00b9c28-57ac-4da0-bc29-c1cfe8b81a92",
   "metadata": {},
   "source": [
    "# Congratulations!\n",
    "\n",
    "If your code ran without errors down to here, you're connected to Google Photos. We have to choose between the [list](https://developers.google.com/photos/library/reference/rest/v1/mediaItems/list) and the [search](https://developers.google.com/photos/library/reference/rest/v1/mediaItems/search) APIs. Only the search api gives us enough parameters to effectively ***chunk*** the results so that the same request always results in the same set of pictures from the same time-period. A month's worth of photos is too much and a day's worth is too little. A week's worth is just right. But how to number our weeks?\n",
    "\n",
    "## Week Zero: Pick UTC or Your Birthday\n",
    "\n",
    "Coordinated Universal Time, a.k.a. the Unix Timestamp or UTC is the number seconds that have elapsed since January 1st, 1970 at 00:00:00 UTC. Make that week-zero or use your birthday. Either way, you'll have a convenient week numbering system that will nicely chunk Google Photos into manageable sets of photos. "
   ]
  },
  {
   "cell_type": "code",
   "execution_count": null,
   "id": "9ec488d3-43d1-40d7-b13d-55d2efc19eed",
   "metadata": {},
   "outputs": [],
   "source": [
    "# Import some datetime utilities\n",
    "from datetime import date, datetime, timedelta"
   ]
  },
  {
   "cell_type": "code",
   "execution_count": null,
   "id": "66f0bf4d-fbf3-4b35-8e96-9e50963351a2",
   "metadata": {},
   "outputs": [],
   "source": [
    "# Pick whether to use your birthday or UTC Week Zero to start.\n",
    "start_utc = date(1970, 1, 1)  # This is when UTC time starts.\n",
    "birthday = date(1970, 8, 27)  # Optionally set to your birthday.\n",
    "start_date = birthday  # Set when you'd like week-zero to begin."
   ]
  },
  {
   "cell_type": "code",
   "execution_count": null,
   "id": "1deaaf88-68f4-4b4d-afdc-421110535c69",
   "metadata": {},
   "outputs": [],
   "source": [
    "# Display what day of week you chose, and week-zero start date.\n",
    "weekday = start_date.weekday()\n",
    "days_to_sunday = 6 - weekday\n",
    "start_week = start_date - timedelta(days=days_to_sunday)\n",
    "if start_date == start_utc:\n",
    "    msg = \"January 1, 1970 was a\"\n",
    "else:\n",
    "    msg = \"You were born on a\"\n",
    "print(f\"{msg} {start_date:%A}.\")\n",
    "print(f\"Week-zero starts {start_week}.\")"
   ]
  },
  {
   "cell_type": "code",
   "execution_count": null,
   "id": "a8d708ef-93fc-45e3-91a5-252f3eb003ba",
   "metadata": {},
   "outputs": [],
   "source": [
    "# Show how many weeks there have been since start date.\n",
    "current_week = start_week\n",
    "week_number = 0\n",
    "while current_week < datetime.today().date():\n",
    "    current_week = current_week + timedelta(days=7)\n",
    "    week_number += 1\n",
    "weeks_to_date = week_number\n",
    "print(f\"We are on week number {weeks_to_date} since {start_week}.\")"
   ]
  },
  {
   "cell_type": "code",
   "execution_count": null,
   "id": "b70ea216-7e4e-44a5-be60-a2b632e506ab",
   "metadata": {},
   "outputs": [],
   "source": [
    "# Import nametuple which lets you create labeled bundles of API-calls.\n",
    "from collections import namedtuple\n",
    "\n",
    "Week = namedtuple(\"Week\", \"number, start, end\")\n",
    "print(f\"You have created a custom data class: {Week}\")"
   ]
  },
  {
   "cell_type": "code",
   "execution_count": null,
   "id": "402928f5-e6cc-4425-bc6b-dbb99c991679",
   "metadata": {},
   "outputs": [],
   "source": [
    "# Create a table with the API parameters and arguments for every week.\n",
    "current_week = start_week\n",
    "week_number = 0\n",
    "table = []\n",
    "while current_week < datetime.today().date():\n",
    "    end_of_week = current_week + timedelta(days=6)\n",
    "    row = Week(f\"{week_number}\", f\"{current_week}\", f\"{end_of_week}\")\n",
    "    table.append(row)\n",
    "    current_week = current_week + timedelta(days=7)\n",
    "    week_number += 1\n",
    "print(\"First 10 rows of table:\")\n",
    "table[:10]"
   ]
  },
  {
   "cell_type": "markdown",
   "id": "b67a426d-4c3f-44f2-8229-72186b7657d1",
   "metadata": {},
   "source": [
    "# Enumerating All Your Photos\n",
    "\n",
    "Getting a good handle on all your media in Google Photos could be a very large or a very small task depending on how many media items you have, and for how far back. You have a limited amount of API usage per day, called quota, and we want to use it wisely. If you have a lot of photos, this will not be a 1-day thing. Expect to run this script over the course of days or weeks, giving your tender love and care to your photos a week at a time.\n",
    "\n",
    "## The Plan\n",
    "  \n",
    "We will eventually make individual thumbnail images on your local system, one for every media item you have in Google Photos, but we will start out by focusing on a single week. Once we have 1 week under control, we will process the rest, spreading the job out over multiple days as quota allows. Every thumbnail image is stuffed with all the meta data from the original source image, which is a good way to secure information such as original filename and original create date."
   ]
  },
  {
   "cell_type": "code",
   "execution_count": null,
   "id": "544d3359-4c1d-4ff9-a006-ea16abb1678a",
   "metadata": {},
   "outputs": [],
   "source": [
    "# Import tool to choose a random integer in a range.\n",
    "from random import randint\n",
    "\n",
    "# Set the oldest date you might want to process media.\n",
    "no_older_than = date(2010, 11, 7)"
   ]
  },
  {
   "cell_type": "code",
   "execution_count": null,
   "id": "254019ef-5112-44cf-a87f-51860437ab37",
   "metadata": {},
   "outputs": [],
   "source": [
    "# Caluclate the eariest week number for the randint range.\n",
    "for i, week in enumerate(table):\n",
    "    start = datetime.strptime(week.start, \"%Y-%m-%d\").date()\n",
    "    if start > no_older_than:\n",
    "        break\n",
    "earliest_number = int(week.number)\n",
    "print(f\"Earliest week is number {earliest_number}.\")"
   ]
  },
  {
   "cell_type": "code",
   "execution_count": null,
   "id": "e962fcad-0217-4831-964f-6e9faf4b5f16",
   "metadata": {},
   "outputs": [],
   "source": [
    "# Pick the random week to process.\n",
    "from pathlib import Path\n",
    "\n",
    "while True:\n",
    "    random_week = table[randint(earliest_number, weeks_to_date)]\n",
    "    if random_week not in [int(x.name) for x in Path(\"photos/source\").glob(\"*\")]:\n",
    "        break\n",
    "print(f\"The week I chose is {random_week}\")"
   ]
  },
  {
   "cell_type": "code",
   "execution_count": null,
   "id": "1e265da4-87e3-4162-9331-eaaee4b66deb",
   "metadata": {},
   "outputs": [],
   "source": []
  },
  {
   "cell_type": "code",
   "execution_count": null,
   "id": "8ebe9c25-cc63-43fb-a39f-51e32f9a2b73",
   "metadata": {},
   "outputs": [],
   "source": []
  },
  {
   "cell_type": "code",
   "execution_count": null,
   "id": "160b4bb2-8fa5-4b5e-b6e5-d354eaabe74f",
   "metadata": {},
   "outputs": [],
   "source": []
  },
  {
   "cell_type": "code",
   "execution_count": null,
   "id": "083ddb3e-d531-4b3d-ba16-831612c0e2e3",
   "metadata": {},
   "outputs": [],
   "source": [
    "# Get the query ready that will load the first result-set of data:\n",
    "\n",
    "sY, sM, sD = random_week.start.split(\"-\")\n",
    "eY, eM, eD = random_week.end.split(\"-\")\n",
    "\n",
    "npt = \"\"\n",
    "args = {\n",
    "    \"pageSize\": 100,\n",
    "    \"pageToken\": npt,\n",
    "    \"filters\": {\n",
    "        \"includeArchivedMedia\": True,\n",
    "        \"dateFilter\": {\n",
    "            \"ranges\": [\n",
    "                {\n",
    "                    \"startDate\": {\"year\": sY, \"month\": sM, \"day\": sD},\n",
    "                    \"endDate\": {\"year\": eY, \"month\": eM, \"day\": eD},\n",
    "                }\n",
    "            ]\n",
    "        },\n",
    "    },\n",
    "}"
   ]
  },
  {
   "cell_type": "code",
   "execution_count": null,
   "id": "f37070d9-e99b-4d71-bd52-63ea7721b5c4",
   "metadata": {},
   "outputs": [],
   "source": [
    "# Grab the first result-set of data\n",
    "\n",
    "results = service.mediaItems().search(body=args).execute()\n",
    "\n",
    "print(\"Now you're holding these results only in memory.\")\n",
    "print(\"Done!\")"
   ]
  },
  {
   "cell_type": "code",
   "execution_count": null,
   "id": "3a128a9f-8307-4c77-9216-56710979980d",
   "metadata": {},
   "outputs": [],
   "source": [
    "# Get the tools that let us write stuff to drive.\n",
    "from pathlib import Path\n",
    "from sqlitedict import SqliteDict as sqldict"
   ]
  },
  {
   "cell_type": "code",
   "execution_count": null,
   "id": "9996c8ca-96e4-40d1-a5eb-cf014768a8c6",
   "metadata": {},
   "outputs": [],
   "source": [
    "# Pick a week and make sure it has a database.\n",
    "data = \"photos/db\"\n",
    "Path(data).mkdir(exist_ok=True, parents=True)\n",
    "npt = results.get(\"nextPageToken\")\n",
    "weekdb = f\"{data}/{random_week.number}.db\""
   ]
  },
  {
   "cell_type": "code",
   "execution_count": null,
   "id": "eca74252-6384-4163-8ceb-937a5e14d90c",
   "metadata": {},
   "outputs": [],
   "source": [
    "# Write the results we currently only have in memory to drive.\n",
    "with sqldict(weekdb) as db:\n",
    "    db[npt] = results\n",
    "    db.commit()"
   ]
  },
  {
   "cell_type": "code",
   "execution_count": null,
   "id": "c10ad54a-252e-4ed1-a0d2-8425335c5617",
   "metadata": {},
   "outputs": [],
   "source": [
    "# Show that you can step through the data you have on drive.\n",
    "# You will not see anything happen, but the fact it can run\n",
    "# means it can reproduce the data it just stored.\n",
    "#                                                  But the clock is ticking!\n",
    "\n",
    "with sqldict(weekdb) as db:\n",
    "    for npt in db:\n",
    "        results = db[npt]\n",
    "print(\"Done\")"
   ]
  },
  {
   "cell_type": "code",
   "execution_count": null,
   "id": "ec00fa76-532e-478e-8b47-0da36f07863e",
   "metadata": {},
   "outputs": [],
   "source": [
    "# Show yourself that there are 2 \"top-level\" keys: medaItems and nextPageToken\n",
    "for item in results:\n",
    "    print(item)"
   ]
  },
  {
   "cell_type": "code",
   "execution_count": null,
   "id": "8efab4d9-6a43-4bba-b2d0-f2f83945accc",
   "metadata": {},
   "outputs": [],
   "source": [
    "# Fetch the remainder of the data for that week.\n",
    "# This steps through all responses populated with a pageToken.\n",
    "# It's important to note you don't actually have any pictures saved locally yet.\n",
    "c = 0\n",
    "while npt:\n",
    "    args = {\n",
    "        \"pageSize\": 100,\n",
    "        \"pageToken\": npt,\n",
    "        \"filters\": {\n",
    "            \"includeArchivedMedia\": True,\n",
    "            \"dateFilter\": {\n",
    "                \"ranges\": [\n",
    "                    {\n",
    "                        \"startDate\": {\"year\": sY, \"month\": sM, \"day\": sD},\n",
    "                        \"endDate\": {\"year\": eY, \"month\": eM, \"day\": eD},\n",
    "                    }\n",
    "                ]\n",
    "            },\n",
    "        },\n",
    "    }\n",
    "    results = service.mediaItems().search(body=args).execute()\n",
    "    npt = results.get(\"nextPageToken\")\n",
    "    if npt:\n",
    "        with sqldict(weekdb) as db:\n",
    "            db[npt] = results\n",
    "            db.commit()\n",
    "    c += 1\n",
    "    print(c, end=\" \")\n",
    "print(\"Done\")"
   ]
  },
  {
   "cell_type": "code",
   "execution_count": null,
   "id": "77ec6762-0a70-424d-b3cc-4ae3077c9748",
   "metadata": {},
   "outputs": [],
   "source": [
    "# Load the libraries that let you save response objects as local files.\n",
    "from httpx import get\n",
    "from PIL import Image\n",
    "from io import BytesIO\n",
    "from imagehash import whash\n",
    "\n",
    "source = f\"photos/source/{random_week.number}\"\n",
    "Path(f\"{source}/archive\").mkdir(exist_ok=True, parents=True)\n",
    "\n",
    "with sqldict(weekdb) as db:\n",
    "    for i, npt in enumerate(db):\n",
    "        results = db[npt]\n",
    "        print(i + 1, end=\" \")\n",
    "        for item in results[\"mediaItems\"]:\n",
    "            if item[\"mimeType\"].split(\"/\")[0] == \"image\":\n",
    "                oldname = item[\"filename\"]\n",
    "                filename = f\"{item['id']}____{oldname}\"\n",
    "                full_path = f\"{source}/{filename}\"\n",
    "                if not Path(full_path).exists():\n",
    "                    use_url = f\"{item['baseUrl']}=d\"\n",
    "                    response = get(use_url, timeout=30)\n",
    "                    with open(full_path, \"wb\") as fh:\n",
    "                        fh.write(response.content)\n",
    "print(\"Done\")"
   ]
  },
  {
   "cell_type": "code",
   "execution_count": null,
   "id": "1b6a7699-d7d9-44f8-a05d-bf31a342e073",
   "metadata": {},
   "outputs": [],
   "source": [
    "npt = \"\"\n",
    "args = {\n",
    "    \"pageSize\": 100,\n",
    "    \"pageToken\": npt,\n",
    "    \"filters\": {\n",
    "        \"includeArchivedMedia\": False,\n",
    "        \"dateFilter\": {\n",
    "            \"ranges\": [\n",
    "                {\n",
    "                    \"startDate\": {\"year\": sY, \"month\": sM, \"day\": sD},\n",
    "                    \"endDate\": {\"year\": eY, \"month\": eM, \"day\": eD},\n",
    "                }\n",
    "            ]\n",
    "        },\n",
    "    },\n",
    "}"
   ]
  },
  {
   "cell_type": "code",
   "execution_count": null,
   "id": "9ec830fe-26c1-41a0-9901-ac6ba4751d1b",
   "metadata": {},
   "outputs": [],
   "source": [
    "results = service.mediaItems().search(body=args).execute()"
   ]
  },
  {
   "cell_type": "code",
   "execution_count": null,
   "id": "5f0ab30c-1c71-4049-a630-dccb4ff2cc30",
   "metadata": {},
   "outputs": [],
   "source": [
    "data = \"photos/db\"\n",
    "weekdb2 = f\"{data}/{random_week.number}_b.db\""
   ]
  },
  {
   "cell_type": "code",
   "execution_count": null,
   "id": "49af1be4-06ce-4a17-9c49-93decb957ec0",
   "metadata": {},
   "outputs": [],
   "source": [
    "with sqldict(weekdb2) as db:\n",
    "    db[npt] = results\n",
    "    db.commit()"
   ]
  },
  {
   "cell_type": "code",
   "execution_count": null,
   "id": "bee092aa-66f7-44a6-a988-e193ce90a11d",
   "metadata": {},
   "outputs": [],
   "source": [
    "c = 0\n",
    "npt = results.get(\"nextPageToken\")\n",
    "while npt:\n",
    "    args = {\n",
    "        \"pageSize\": 100,\n",
    "        \"pageToken\": npt,\n",
    "        \"filters\": {\n",
    "            \"includeArchivedMedia\": False,\n",
    "            \"dateFilter\": {\n",
    "                \"ranges\": [\n",
    "                    {\n",
    "                        \"startDate\": {\"year\": sY, \"month\": sM, \"day\": sD},\n",
    "                        \"endDate\": {\"year\": eY, \"month\": eM, \"day\": eD},\n",
    "                    }\n",
    "                ]\n",
    "            },\n",
    "        },\n",
    "    }\n",
    "    results = service.mediaItems().search(body=args).execute()\n",
    "    npt = results.get(\"nextPageToken\")\n",
    "    if npt:\n",
    "        with sqldict(weekdb2) as db:\n",
    "            db[npt] = results\n",
    "            db.commit()\n",
    "    c += 1\n",
    "    print(c, end=\" \")\n",
    "print(\"Done\")"
   ]
  }
 ],
 "metadata": {
  "kernelspec": {
   "display_name": "Python 3 (ipykernel)",
   "language": "python",
   "name": "python3"
  },
  "language_info": {
   "codemirror_mode": {
    "name": "ipython",
    "version": 3
   },
   "file_extension": ".py",
   "mimetype": "text/x-python",
   "name": "python",
   "nbconvert_exporter": "python",
   "pygments_lexer": "ipython3"
  }
 },
 "nbformat": 4,
 "nbformat_minor": 5
}
