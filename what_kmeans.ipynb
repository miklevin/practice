{
 "cells": [
  {
   "cell_type": "code",
   "execution_count": null,
   "id": "c1f3801c-66d0-4188-9537-4efedd11b6ac",
   "metadata": {},
   "outputs": [],
   "source": [
    "from random import randint\n",
    "import matplotlib.pyplot as plt\n",
    "\n",
    "range_size = randint(10, 50)\n",
    "\n",
    "x = [randint(1, 10) for x in range(range_size)]\n",
    "y = [randint(1, 10) for x in range(range_size)]\n",
    "\n",
    "plt.scatter(x, y)\n",
    "plt.show()"
   ]
  },
  {
   "cell_type": "code",
   "execution_count": null,
   "id": "11fd3940-a8ad-4dd2-9911-ea72978ae8ef",
   "metadata": {},
   "outputs": [],
   "source": [
    "from sklearn.cluster import KMeans\n",
    "\n",
    "data = list(zip(x, y))\n",
    "inertias = []\n",
    "\n",
    "for i in range(1, 11):\n",
    "    kmeans = KMeans(n_clusters=i, n_init=\"auto\")\n",
    "    kmeans.fit(data)\n",
    "    inertias.append(kmeans.inertia_)\n",
    "\n",
    "plt.plot(range(1, 11), inertias, marker=\"o\")\n",
    "plt.title(\"Elbow method\")\n",
    "plt.xlabel(\"Number of clusters\")\n",
    "plt.ylabel(\"Inertia\")\n",
    "plt.show()"
   ]
  },
  {
   "cell_type": "code",
   "execution_count": null,
   "id": "dc97dd05-1f59-40ae-b4f5-15ccc51c796a",
   "metadata": {},
   "outputs": [],
   "source": [
    "kmeans = KMeans(n_clusters=2, n_init=\"auto\")\n",
    "kmeans.fit(data)\n",
    "\n",
    "plt.scatter(x, y, c=kmeans.labels_)\n",
    "plt.show()"
   ]
  },
  {
   "cell_type": "code",
   "execution_count": null,
   "id": "129c8d55-896e-40e0-bfbc-a28483518709",
   "metadata": {},
   "outputs": [],
   "source": [
    "data"
   ]
  },
  {
   "cell_type": "code",
   "execution_count": null,
   "id": "635435b4-89d0-4499-8745-6947b8c1cc8d",
   "metadata": {},
   "outputs": [],
   "source": [
    "import matplotlib.pyplot as plt\n",
    "from sklearn.cluster import KMeans\n",
    "from sklearn.metrics import pairwise_distances\n",
    "\n",
    "# sample data\n",
    "data = [[1, 2, 3, 4], [5, 6, 7, 8], [9, 10, 11, 12], [13, 14, 15, 16]]\n",
    "\n",
    "# compute histogram intersection for each data point\n",
    "intersections = pairwise_distances(data, metric=)\n",
    "\n",
    "# perform KMeans clustering on histogram intersection values\n",
    "kmeans = KMeans(n_clusters=2, n_init=\"auto\").fit(intersections)\n",
    "\n",
    "# get cluster assignments for each data point\n",
    "cluster_assignments = kmeans.labels_\n",
    "\n",
    "# create bar chart to show cluster assignments\n",
    "plt.bar(range(len(data)), cluster_assignments)\n",
    "plt.xlabel('Data Point')\n",
    "plt.ylabel('Cluster')\n",
    "plt.show()"
   ]
  },
  {
   "cell_type": "code",
   "execution_count": null,
   "id": "55a6bee7-f128-42d4-b7af-67433c253e9f",
   "metadata": {},
   "outputs": [],
   "source": []
  }
 ],
 "metadata": {
  "kernelspec": {
   "display_name": "Python 3 (ipykernel)",
   "language": "python",
   "name": "python3"
  },
  "language_info": {
   "codemirror_mode": {
    "name": "ipython",
    "version": 3
   },
   "file_extension": ".py",
   "mimetype": "text/x-python",
   "name": "python",
   "nbconvert_exporter": "python",
   "pygments_lexer": "ipython3"
  }
 },
 "nbformat": 4,
 "nbformat_minor": 5
}
