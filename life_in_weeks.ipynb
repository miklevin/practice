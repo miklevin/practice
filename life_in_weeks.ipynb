{
 "cells": [
  {
   "cell_type": "code",
   "execution_count": null,
   "id": "1779928d-5edf-428f-a2a2-a151aa894f6c",
   "metadata": {},
   "outputs": [],
   "source": [
    "from collections import namedtuple\n",
    "from datetime import date, timedelta\n",
    "from sqlitedict import SqliteDict as sqldict\n",
    "\n",
    "# Calculate the most recent full week\n",
    "today = date.today()\n",
    "weekday = today.weekday()\n",
    "days_to_sunday = 6 - weekday\n",
    "end_date = today - timedelta(days=days_to_sunday)\n",
    "\n",
    "# Calculate closest week-start near start date\n",
    "start_date = date(1970, 8, 27)\n",
    "weekday = start_date.weekday()\n",
    "days_to_sunday = 6 - weekday\n",
    "start_date = start_date - timedelta(days=days_to_sunday)\n",
    "\n",
    "print(f\"Dates: {start_date} to {end_date}\")\n",
    "\n",
    "# Calculate number of days\n",
    "num_days = (end_date - start_date).days + 1\n",
    "print(f\"Number of days: {num_days}\")\n",
    "\n",
    "Week = namedtuple(\"Week\", \"id, start\")\n",
    "\n",
    "# Give each week a fixed ID\n",
    "show_date = start_date\n",
    "table = []\n",
    "for i in range(num_days):\n",
    "    # print(i, show_date)\n",
    "    table.append((Week(i, f\"{show_date}\")))\n",
    "    show_date = show_date + timedelta(days=7)\n",
    "    if show_date > end_date:\n",
    "        break\n",
    "\n",
    "# Plug api-parameters as keys into database\n",
    "with sqldict(\"weeks.db\") as db:\n",
    "    for week in table:\n",
    "        db[str(week)] = None\n",
    "    db.commit()"
   ]
  },
  {
   "cell_type": "code",
   "execution_count": null,
   "id": "8d9c6803-4c9a-40f1-a9b9-3ef1979a3a0f",
   "metadata": {},
   "outputs": [],
   "source": [
    "with sqldict(\"weeks.db\") as db:\n",
    "    for week in db:\n",
    "        print(week)"
   ]
  },
  {
   "cell_type": "code",
   "execution_count": null,
   "id": "e5f8c2d1-39b9-4bd1-88a4-44792aa01898",
   "metadata": {},
   "outputs": [],
   "source": []
  }
 ],
 "metadata": {
  "kernelspec": {
   "display_name": "Python 3 (ipykernel)",
   "language": "python",
   "name": "python3"
  },
  "language_info": {
   "codemirror_mode": {
    "name": "ipython",
    "version": 3
   },
   "file_extension": ".py",
   "mimetype": "text/x-python",
   "name": "python",
   "nbconvert_exporter": "python",
   "pygments_lexer": "ipython3"
  }
 },
 "nbformat": 4,
 "nbformat_minor": 5
}
